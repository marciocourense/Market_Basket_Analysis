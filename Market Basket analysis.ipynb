{
 "cells": [
  {
   "cell_type": "code",
   "execution_count": 1,
   "metadata": {
    "collapsed": true
   },
   "outputs": [],
   "source": [
    "#group of items that are frequently bought together\n",
    "#https://dzenanhamzic.com/2017/01/19/market-basket-analysis-mining-frequent-pairs-in-python/"
   ]
  },
  {
   "cell_type": "code",
   "execution_count": 2,
   "metadata": {
    "collapsed": true
   },
   "outputs": [],
   "source": [
    "import numpy as np \n",
    "import pandas as pd"
   ]
  },
  {
   "cell_type": "code",
   "execution_count": 3,
   "metadata": {
    "collapsed": false
   },
   "outputs": [
    {
     "name": "stderr",
     "output_type": "stream",
     "text": [
      "C:\\Users\\Marci\\Anaconda3\\lib\\site-packages\\IPython\\core\\interactiveshell.py:2717: DtypeWarning: Columns (5) have mixed types. Specify dtype option on import or set low_memory=False.\n",
      "  interactivity=interactivity, compiler=compiler, result=result)\n"
     ]
    }
   ],
   "source": [
    "Customer = pd.read_csv('Customer.csv')\n",
    "OrderItem = pd.read_csv('OrderItem.csv')\n",
    "Article = pd.read_csv('ArticleList.csv')"
   ]
  },
  {
   "cell_type": "code",
   "execution_count": 4,
   "metadata": {
    "collapsed": false
   },
   "outputs": [
    {
     "data": {
      "text/html": [
       "<div>\n",
       "<table border=\"1\" class=\"dataframe\">\n",
       "  <thead>\n",
       "    <tr style=\"text-align: right;\">\n",
       "      <th></th>\n",
       "      <th>﻿Country</th>\n",
       "      <th>Customer ID</th>\n",
       "      <th>Contact Optin</th>\n",
       "      <th>Birthday</th>\n",
       "      <th>Gender</th>\n",
       "      <th>Zipcode</th>\n",
       "      <th>NPS</th>\n",
       "    </tr>\n",
       "  </thead>\n",
       "  <tbody>\n",
       "    <tr>\n",
       "      <th>0</th>\n",
       "      <td>ES</td>\n",
       "      <td>90D524C6BC250FBD33257348B473E810</td>\n",
       "      <td>1.0</td>\n",
       "      <td>1963-02-09</td>\n",
       "      <td>1.0</td>\n",
       "      <td>17480</td>\n",
       "      <td>NaN</td>\n",
       "    </tr>\n",
       "    <tr>\n",
       "      <th>1</th>\n",
       "      <td>ES</td>\n",
       "      <td>DF363057CF6E84F2242EFB766C3935BC</td>\n",
       "      <td>1.0</td>\n",
       "      <td>1979-07-12</td>\n",
       "      <td>0.0</td>\n",
       "      <td>35411</td>\n",
       "      <td>9.0</td>\n",
       "    </tr>\n",
       "    <tr>\n",
       "      <th>2</th>\n",
       "      <td>ES</td>\n",
       "      <td>E2808BBECC49F581D3CDD078D2A1DC93</td>\n",
       "      <td>1.0</td>\n",
       "      <td>NaN</td>\n",
       "      <td>NaN</td>\n",
       "      <td>NaN</td>\n",
       "      <td>NaN</td>\n",
       "    </tr>\n",
       "    <tr>\n",
       "      <th>3</th>\n",
       "      <td>ES</td>\n",
       "      <td>AD69A53C142B0165E2E1040E0444131C</td>\n",
       "      <td>1.0</td>\n",
       "      <td>1972-05-06</td>\n",
       "      <td>1.0</td>\n",
       "      <td>17300</td>\n",
       "      <td>NaN</td>\n",
       "    </tr>\n",
       "    <tr>\n",
       "      <th>4</th>\n",
       "      <td>ES</td>\n",
       "      <td>3D3349A5A1FCB30343381D8EBE67BE3B</td>\n",
       "      <td>1.0</td>\n",
       "      <td>1966-09-13</td>\n",
       "      <td>1.0</td>\n",
       "      <td>30203</td>\n",
       "      <td>NaN</td>\n",
       "    </tr>\n",
       "  </tbody>\n",
       "</table>\n",
       "</div>"
      ],
      "text/plain": [
       "  ﻿Country                       Customer ID  Contact Optin    Birthday  \\\n",
       "0       ES  90D524C6BC250FBD33257348B473E810            1.0  1963-02-09   \n",
       "1       ES  DF363057CF6E84F2242EFB766C3935BC            1.0  1979-07-12   \n",
       "2       ES  E2808BBECC49F581D3CDD078D2A1DC93            1.0         NaN   \n",
       "3       ES  AD69A53C142B0165E2E1040E0444131C            1.0  1972-05-06   \n",
       "4       ES  3D3349A5A1FCB30343381D8EBE67BE3B            1.0  1966-09-13   \n",
       "\n",
       "   Gender Zipcode  NPS  \n",
       "0     1.0   17480  NaN  \n",
       "1     0.0   35411  9.0  \n",
       "2     NaN     NaN  NaN  \n",
       "3     1.0   17300  NaN  \n",
       "4     1.0   30203  NaN  "
      ]
     },
     "execution_count": 4,
     "metadata": {},
     "output_type": "execute_result"
    }
   ],
   "source": [
    "Customer.head()"
   ]
  },
  {
   "cell_type": "code",
   "execution_count": 5,
   "metadata": {
    "collapsed": false
   },
   "outputs": [
    {
     "data": {
      "text/html": [
       "<div>\n",
       "<table border=\"1\" class=\"dataframe\">\n",
       "  <thead>\n",
       "    <tr style=\"text-align: right;\">\n",
       "      <th></th>\n",
       "      <th>﻿Country</th>\n",
       "      <th>Customer ID</th>\n",
       "      <th>Order Date</th>\n",
       "      <th>Order ID</th>\n",
       "      <th>Article Type</th>\n",
       "      <th>Article ID</th>\n",
       "      <th>Quantity</th>\n",
       "      <th>Product Value In Euros</th>\n",
       "      <th>Discount Value In Euros</th>\n",
       "      <th>Shipment Costs In Euros</th>\n",
       "    </tr>\n",
       "  </thead>\n",
       "  <tbody>\n",
       "    <tr>\n",
       "      <th>0</th>\n",
       "      <td>ES</td>\n",
       "      <td>67CDB3B3D10834507AB2AD9EA7983F3B</td>\n",
       "      <td>2015-01-01</td>\n",
       "      <td>1029041670</td>\n",
       "      <td>Regular Item</td>\n",
       "      <td>192016</td>\n",
       "      <td>2.0</td>\n",
       "      <td>9.88</td>\n",
       "      <td>0.0</td>\n",
       "      <td>0.0</td>\n",
       "    </tr>\n",
       "    <tr>\n",
       "      <th>1</th>\n",
       "      <td>ES</td>\n",
       "      <td>67CDB3B3D10834507AB2AD9EA7983F3B</td>\n",
       "      <td>2015-01-01</td>\n",
       "      <td>1029041670</td>\n",
       "      <td>Regular Item</td>\n",
       "      <td>346079</td>\n",
       "      <td>2.0</td>\n",
       "      <td>6.98</td>\n",
       "      <td>0.0</td>\n",
       "      <td>0.0</td>\n",
       "    </tr>\n",
       "    <tr>\n",
       "      <th>2</th>\n",
       "      <td>ES</td>\n",
       "      <td>67CDB3B3D10834507AB2AD9EA7983F3B</td>\n",
       "      <td>2015-01-01</td>\n",
       "      <td>1029041670</td>\n",
       "      <td>Regular Item</td>\n",
       "      <td>519431</td>\n",
       "      <td>1.0</td>\n",
       "      <td>4.87</td>\n",
       "      <td>0.0</td>\n",
       "      <td>0.0</td>\n",
       "    </tr>\n",
       "    <tr>\n",
       "      <th>3</th>\n",
       "      <td>ES</td>\n",
       "      <td>67CDB3B3D10834507AB2AD9EA7983F3B</td>\n",
       "      <td>2015-01-01</td>\n",
       "      <td>1029041670</td>\n",
       "      <td>Regular Item</td>\n",
       "      <td>519500</td>\n",
       "      <td>1.0</td>\n",
       "      <td>4.87</td>\n",
       "      <td>0.0</td>\n",
       "      <td>0.0</td>\n",
       "    </tr>\n",
       "    <tr>\n",
       "      <th>4</th>\n",
       "      <td>ES</td>\n",
       "      <td>67CDB3B3D10834507AB2AD9EA7983F3B</td>\n",
       "      <td>2015-01-01</td>\n",
       "      <td>1029041670</td>\n",
       "      <td>Regular Item</td>\n",
       "      <td>491711</td>\n",
       "      <td>1.0</td>\n",
       "      <td>4.94</td>\n",
       "      <td>0.0</td>\n",
       "      <td>0.0</td>\n",
       "    </tr>\n",
       "  </tbody>\n",
       "</table>\n",
       "</div>"
      ],
      "text/plain": [
       "  ﻿Country                       Customer ID  Order Date    Order ID  \\\n",
       "0       ES  67CDB3B3D10834507AB2AD9EA7983F3B  2015-01-01  1029041670   \n",
       "1       ES  67CDB3B3D10834507AB2AD9EA7983F3B  2015-01-01  1029041670   \n",
       "2       ES  67CDB3B3D10834507AB2AD9EA7983F3B  2015-01-01  1029041670   \n",
       "3       ES  67CDB3B3D10834507AB2AD9EA7983F3B  2015-01-01  1029041670   \n",
       "4       ES  67CDB3B3D10834507AB2AD9EA7983F3B  2015-01-01  1029041670   \n",
       "\n",
       "   Article Type Article ID  Quantity  Product Value In Euros  \\\n",
       "0  Regular Item     192016       2.0                    9.88   \n",
       "1  Regular Item     346079       2.0                    6.98   \n",
       "2  Regular Item     519431       1.0                    4.87   \n",
       "3  Regular Item     519500       1.0                    4.87   \n",
       "4  Regular Item     491711       1.0                    4.94   \n",
       "\n",
       "   Discount Value In Euros  Shipment Costs In Euros  \n",
       "0                      0.0                      0.0  \n",
       "1                      0.0                      0.0  \n",
       "2                      0.0                      0.0  \n",
       "3                      0.0                      0.0  \n",
       "4                      0.0                      0.0  "
      ]
     },
     "execution_count": 5,
     "metadata": {},
     "output_type": "execute_result"
    }
   ],
   "source": [
    "OrderItem.head()"
   ]
  },
  {
   "cell_type": "code",
   "execution_count": 6,
   "metadata": {
    "collapsed": false
   },
   "outputs": [],
   "source": [
    "OrderItem = OrderItem[(OrderItem['Product Value In Euros'] > 0) & (OrderItem['Quantity'] > 0.0)] "
   ]
  },
  {
   "cell_type": "code",
   "execution_count": 7,
   "metadata": {
    "collapsed": false
   },
   "outputs": [
    {
     "data": {
      "text/html": [
       "<div>\n",
       "<table border=\"1\" class=\"dataframe\">\n",
       "  <thead>\n",
       "    <tr style=\"text-align: right;\">\n",
       "      <th></th>\n",
       "      <th>Article Group ID</th>\n",
       "      <th>Article ID</th>\n",
       "      <th>Brand</th>\n",
       "      <th>Costs of Goods</th>\n",
       "    </tr>\n",
       "  </thead>\n",
       "  <tbody>\n",
       "    <tr>\n",
       "      <th>0</th>\n",
       "      <td>233.0</td>\n",
       "      <td>184037</td>\n",
       "      <td>Perla</td>\n",
       "      <td>0.565514</td>\n",
       "    </tr>\n",
       "    <tr>\n",
       "      <th>1</th>\n",
       "      <td>232.0</td>\n",
       "      <td>184096</td>\n",
       "      <td>Perla</td>\n",
       "      <td>2.588112</td>\n",
       "    </tr>\n",
       "    <tr>\n",
       "      <th>2</th>\n",
       "      <td>289.0</td>\n",
       "      <td>184480</td>\n",
       "      <td>Zuivelhoeve</td>\n",
       "      <td>0.253512</td>\n",
       "    </tr>\n",
       "    <tr>\n",
       "      <th>3</th>\n",
       "      <td>235.0</td>\n",
       "      <td>184481</td>\n",
       "      <td>Pickwick</td>\n",
       "      <td>0.191109</td>\n",
       "    </tr>\n",
       "    <tr>\n",
       "      <th>4</th>\n",
       "      <td>223.0</td>\n",
       "      <td>184482</td>\n",
       "      <td>Zuivelhoeve</td>\n",
       "      <td>0.923359</td>\n",
       "    </tr>\n",
       "  </tbody>\n",
       "</table>\n",
       "</div>"
      ],
      "text/plain": [
       "   Article Group ID  Article ID        Brand  Costs of Goods\n",
       "0             233.0      184037        Perla        0.565514\n",
       "1             232.0      184096        Perla        2.588112\n",
       "2             289.0      184480  Zuivelhoeve        0.253512\n",
       "3             235.0      184481     Pickwick        0.191109\n",
       "4             223.0      184482  Zuivelhoeve        0.923359"
      ]
     },
     "execution_count": 7,
     "metadata": {},
     "output_type": "execute_result"
    }
   ],
   "source": [
    "Article.head()"
   ]
  },
  {
   "cell_type": "code",
   "execution_count": 16,
   "metadata": {
    "collapsed": false
   },
   "outputs": [
    {
     "name": "stdout",
     "output_type": "stream",
     "text": [
      "            192016  2161866  2168530  2168537  336140  336180  336190  336194  \\\n",
      "Order ID                                                                        \n",
      "71016          0.0      0.0      0.0      0.0     0.0     0.0     0.0     1.0   \n",
      "71042          0.0      0.0      0.0      0.0     0.0     0.0     1.0     0.0   \n",
      "71286          0.0      0.0      0.0      0.0     0.0     0.0     0.0     0.0   \n",
      "71392          0.0      0.0      0.0      0.0     0.0     0.0     0.0     0.0   \n",
      "71458          0.0      0.0      0.0      0.0     0.0     0.0     0.0     1.0   \n",
      "71702          0.0      0.0      0.0      0.0     0.0     0.0     0.0     1.0   \n",
      "71842          0.0      0.0      0.0      0.0     1.0     0.0     0.0     0.0   \n",
      "71890          0.0      0.0      0.0      0.0     0.0     0.0     0.0     0.0   \n",
      "72012          0.0      0.0      0.0      0.0     0.0     0.0     0.0     0.0   \n",
      "72048          0.0      0.0      0.0      0.0     0.0     0.0     0.0     1.0   \n",
      "72110          0.0      0.0      0.0      0.0     0.0     0.0     0.0     0.0   \n",
      "72138          0.0      0.0      0.0      0.0     0.0     0.0     1.0     0.0   \n",
      "72144          0.0      0.0      0.0      0.0     0.0     0.0     0.0     0.0   \n",
      "72200          0.0      0.0      0.0      0.0     0.0     1.0     1.0     0.0   \n",
      "72206          0.0      0.0      0.0      0.0     1.0     0.0     0.0     0.0   \n",
      "72254          1.0      0.0      0.0      0.0     1.0     0.0     0.0     0.0   \n",
      "72260          0.0      0.0      0.0      0.0     0.0     0.0     0.0     0.0   \n",
      "72326          0.0      0.0      0.0      0.0     0.0     0.0     0.0     0.0   \n",
      "72374          0.0      0.0      0.0      0.0     0.0     0.0     0.0     0.0   \n",
      "72386          0.0      0.0      0.0      0.0     0.0     0.0     0.0     0.0   \n",
      "72392          0.0      0.0      0.0      0.0     0.0     0.0     0.0     0.0   \n",
      "72422          0.0      0.0      0.0      0.0     0.0     0.0     0.0     0.0   \n",
      "72472          0.0      0.0      0.0      0.0     0.0     0.0     0.0     0.0   \n",
      "72528          0.0      0.0      0.0      0.0     1.0     0.0     0.0     0.0   \n",
      "72668          0.0      0.0      0.0      0.0     0.0     1.0     1.0     1.0   \n",
      "72738          0.0      0.0      0.0      0.0     0.0     0.0     0.0     0.0   \n",
      "72740          1.0      0.0      0.0      0.0     0.0     1.0     0.0     0.0   \n",
      "72790          1.0      0.0      0.0      0.0     0.0     0.0     0.0     0.0   \n",
      "73130          0.0      0.0      0.0      0.0     0.0     0.0     0.0     0.0   \n",
      "73532          0.0      0.0      0.0      0.0     1.0     0.0     0.0     0.0   \n",
      "...            ...      ...      ...      ...     ...     ...     ...     ...   \n",
      "1031166474     0.0      0.0      0.0      0.0     0.0     0.0     0.0     0.0   \n",
      "1031166478     0.0      0.0      0.0      0.0     1.0     0.0     0.0     0.0   \n",
      "1031166482     0.0      0.0      0.0      0.0     0.0     0.0     0.0     0.0   \n",
      "1031166494     0.0      0.0      0.0      0.0     0.0     0.0     1.0     0.0   \n",
      "1031166498     1.0      0.0      0.0      0.0     1.0     1.0     0.0     0.0   \n",
      "1031166502     1.0      0.0      0.0      0.0     1.0     0.0     0.0     0.0   \n",
      "1031166506     0.0      0.0      0.0      0.0     0.0     0.0     0.0     0.0   \n",
      "1031166510     0.0      0.0      0.0      0.0     0.0     0.0     0.0     0.0   \n",
      "1031166526     1.0      0.0      0.0      0.0     1.0     0.0     0.0     0.0   \n",
      "1031166534     1.0      0.0      0.0      0.0     0.0     0.0     0.0     0.0   \n",
      "1031166538     0.0      0.0      0.0      0.0     0.0     0.0     1.0     0.0   \n",
      "1031166542     1.0      0.0      0.0      0.0     0.0     0.0     0.0     1.0   \n",
      "1031166550     0.0      0.0      0.0      0.0     1.0     0.0     1.0     0.0   \n",
      "1031166562     0.0      0.0      0.0      0.0     0.0     0.0     0.0     0.0   \n",
      "1031166570     0.0      0.0      0.0      0.0     0.0     0.0     1.0     0.0   \n",
      "1031166574     0.0      0.0      0.0      0.0     0.0     1.0     0.0     0.0   \n",
      "1031166578     0.0      0.0      0.0      0.0     0.0     0.0     0.0     0.0   \n",
      "1031166582     0.0      0.0      0.0      0.0     0.0     0.0     0.0     1.0   \n",
      "1031166586     0.0      0.0      0.0      0.0     0.0     0.0     0.0     0.0   \n",
      "1031166594     0.0      0.0      0.0      0.0     1.0     0.0     0.0     0.0   \n",
      "1031166606     0.0      0.0      0.0      0.0     1.0     0.0     0.0     0.0   \n",
      "1031166614     0.0      0.0      0.0      0.0     0.0     0.0     0.0     0.0   \n",
      "1031166622     0.0      0.0      0.0      0.0     0.0     0.0     0.0     1.0   \n",
      "1031166630     0.0      0.0      0.0      0.0     0.0     0.0     0.0     0.0   \n",
      "1031166634     0.0      0.0      0.0      0.0     1.0     0.0     0.0     0.0   \n",
      "1031166638     0.0      0.0      0.0      0.0     0.0     0.0     1.0     0.0   \n",
      "1031166642     0.0      0.0      0.0      0.0     0.0     0.0     0.0     1.0   \n",
      "1031166646     0.0      0.0      0.0      0.0     0.0     1.0     0.0     0.0   \n",
      "1031166658     1.0      0.0      0.0      0.0     0.0     0.0     0.0     0.0   \n",
      "1031166662     0.0      0.0      0.0      0.0     0.0     1.0     0.0     0.0   \n",
      "\n",
      "            336196  336198  ...    516713  519431  519500  519502  522747  \\\n",
      "Order ID                    ...                                             \n",
      "71016          1.0     0.0  ...       1.0     0.0     0.0     1.0     0.0   \n",
      "71042          0.0     0.0  ...       0.0     0.0     0.0     1.0     0.0   \n",
      "71286          0.0     0.0  ...       0.0     1.0     0.0     0.0     0.0   \n",
      "71392          0.0     0.0  ...       0.0     0.0     0.0     0.0     0.0   \n",
      "71458          0.0     0.0  ...       0.0     0.0     0.0     0.0     0.0   \n",
      "71702          0.0     0.0  ...       1.0     0.0     0.0     1.0     1.0   \n",
      "71842          0.0     0.0  ...       0.0     0.0     0.0     1.0     0.0   \n",
      "71890          0.0     0.0  ...       1.0     0.0     0.0     0.0     0.0   \n",
      "72012          1.0     0.0  ...       0.0     0.0     0.0     0.0     1.0   \n",
      "72048          0.0     0.0  ...       0.0     0.0     0.0     0.0     1.0   \n",
      "72110          0.0     0.0  ...       0.0     0.0     0.0     1.0     0.0   \n",
      "72138          0.0     0.0  ...       1.0     0.0     0.0     0.0     0.0   \n",
      "72144          0.0     0.0  ...       0.0     0.0     0.0     1.0     0.0   \n",
      "72200          0.0     1.0  ...       0.0     1.0     1.0     0.0     0.0   \n",
      "72206          0.0     0.0  ...       0.0     0.0     1.0     0.0     0.0   \n",
      "72254          0.0     0.0  ...       1.0     0.0     0.0     0.0     1.0   \n",
      "72260          0.0     0.0  ...       0.0     0.0     0.0     0.0     0.0   \n",
      "72326          0.0     0.0  ...       0.0     0.0     0.0     0.0     0.0   \n",
      "72374          0.0     0.0  ...       0.0     1.0     0.0     0.0     0.0   \n",
      "72386          1.0     0.0  ...       0.0     0.0     0.0     1.0     0.0   \n",
      "72392          0.0     0.0  ...       0.0     0.0     0.0     0.0     0.0   \n",
      "72422          0.0     0.0  ...       0.0     0.0     0.0     0.0     0.0   \n",
      "72472          0.0     0.0  ...       0.0     0.0     0.0     1.0     0.0   \n",
      "72528          0.0     1.0  ...       0.0     0.0     1.0     0.0     0.0   \n",
      "72668          0.0     0.0  ...       0.0     1.0     0.0     0.0     0.0   \n",
      "72738          0.0     0.0  ...       0.0     0.0     0.0     0.0     0.0   \n",
      "72740          1.0     0.0  ...       0.0     1.0     0.0     0.0     0.0   \n",
      "72790          0.0     0.0  ...       0.0     0.0     0.0     0.0     0.0   \n",
      "73130          0.0     0.0  ...       1.0     0.0     0.0     0.0     0.0   \n",
      "73532          0.0     0.0  ...       0.0     0.0     1.0     0.0     1.0   \n",
      "...            ...     ...  ...       ...     ...     ...     ...     ...   \n",
      "1031166474     1.0     0.0  ...       0.0     0.0     0.0     0.0     0.0   \n",
      "1031166478     0.0     0.0  ...       1.0     0.0     0.0     0.0     1.0   \n",
      "1031166482     0.0     0.0  ...       0.0     0.0     0.0     0.0     0.0   \n",
      "1031166494     0.0     0.0  ...       0.0     0.0     0.0     0.0     0.0   \n",
      "1031166498     0.0     0.0  ...       1.0     0.0     0.0     0.0     0.0   \n",
      "1031166502     0.0     0.0  ...       0.0     0.0     0.0     0.0     0.0   \n",
      "1031166506     0.0     0.0  ...       0.0     1.0     0.0     0.0     0.0   \n",
      "1031166510     0.0     0.0  ...       1.0     1.0     1.0     0.0     1.0   \n",
      "1031166526     1.0     0.0  ...       1.0     0.0     0.0     0.0     0.0   \n",
      "1031166534     0.0     0.0  ...       0.0     0.0     0.0     0.0     0.0   \n",
      "1031166538     0.0     0.0  ...       0.0     0.0     0.0     0.0     0.0   \n",
      "1031166542     0.0     0.0  ...       0.0     0.0     1.0     0.0     1.0   \n",
      "1031166550     0.0     0.0  ...       1.0     1.0     0.0     0.0     1.0   \n",
      "1031166562     0.0     0.0  ...       1.0     0.0     0.0     0.0     0.0   \n",
      "1031166570     0.0     0.0  ...       0.0     0.0     1.0     0.0     1.0   \n",
      "1031166574     0.0     0.0  ...       1.0     0.0     0.0     0.0     0.0   \n",
      "1031166578     0.0     0.0  ...       0.0     1.0     0.0     0.0     0.0   \n",
      "1031166582     1.0     0.0  ...       0.0     0.0     0.0     0.0     0.0   \n",
      "1031166586     1.0     0.0  ...       0.0     0.0     0.0     0.0     0.0   \n",
      "1031166594     1.0     0.0  ...       0.0     0.0     0.0     0.0     0.0   \n",
      "1031166606     0.0     0.0  ...       0.0     0.0     0.0     0.0     0.0   \n",
      "1031166614     1.0     0.0  ...       0.0     1.0     0.0     0.0     0.0   \n",
      "1031166622     1.0     0.0  ...       0.0     0.0     0.0     0.0     0.0   \n",
      "1031166630     0.0     0.0  ...       0.0     0.0     0.0     0.0     0.0   \n",
      "1031166634     0.0     0.0  ...       0.0     0.0     0.0     0.0     0.0   \n",
      "1031166638     0.0     0.0  ...       0.0     0.0     0.0     0.0     0.0   \n",
      "1031166642     1.0     0.0  ...       0.0     0.0     0.0     0.0     0.0   \n",
      "1031166646     1.0     0.0  ...       0.0     0.0     0.0     0.0     0.0   \n",
      "1031166658     0.0     0.0  ...       0.0     0.0     0.0     0.0     0.0   \n",
      "1031166662     0.0     0.0  ...       0.0     0.0     0.0     0.0     0.0   \n",
      "\n",
      "            522750  522919  522921  69914  71810  \n",
      "Order ID                                          \n",
      "71016          0.0     1.0     1.0    0.0    0.0  \n",
      "71042          0.0     0.0     0.0    0.0    0.0  \n",
      "71286          0.0     0.0     0.0    0.0    0.0  \n",
      "71392          0.0     0.0     0.0    0.0    0.0  \n",
      "71458          0.0     0.0     1.0    0.0    0.0  \n",
      "71702          0.0     0.0     0.0    0.0    0.0  \n",
      "71842          1.0     0.0     0.0    0.0    0.0  \n",
      "71890          0.0     0.0     0.0    0.0    0.0  \n",
      "72012          1.0     0.0     1.0    0.0    0.0  \n",
      "72048          1.0     0.0     0.0    0.0    0.0  \n",
      "72110          0.0     0.0     0.0    0.0    0.0  \n",
      "72138          0.0     0.0     0.0    0.0    1.0  \n",
      "72144          1.0     0.0     0.0    0.0    0.0  \n",
      "72200          1.0     0.0     0.0    0.0    0.0  \n",
      "72206          0.0     0.0     0.0    0.0    0.0  \n",
      "72254          0.0     1.0     0.0    0.0    0.0  \n",
      "72260          0.0     0.0     0.0    0.0    0.0  \n",
      "72326          0.0     0.0     0.0    0.0    0.0  \n",
      "72374          0.0     0.0     1.0    0.0    0.0  \n",
      "72386          0.0     1.0     0.0    0.0    0.0  \n",
      "72392          1.0     0.0     0.0    0.0    0.0  \n",
      "72422          0.0     0.0     0.0    0.0    0.0  \n",
      "72472          0.0     0.0     0.0    0.0    1.0  \n",
      "72528          0.0     1.0     0.0    1.0    0.0  \n",
      "72668          0.0     0.0     1.0    0.0    0.0  \n",
      "72738          0.0     0.0     0.0    0.0    0.0  \n",
      "72740          0.0     0.0     0.0    0.0    0.0  \n",
      "72790          0.0     0.0     0.0    0.0    0.0  \n",
      "73130          0.0     0.0     0.0    0.0    0.0  \n",
      "73532          0.0     0.0     0.0    0.0    0.0  \n",
      "...            ...     ...     ...    ...    ...  \n",
      "1031166474     0.0     0.0     0.0    0.0    0.0  \n",
      "1031166478     0.0     0.0     0.0    0.0    1.0  \n",
      "1031166482     0.0     1.0     0.0    0.0    0.0  \n",
      "1031166494     0.0     1.0     0.0    0.0    0.0  \n",
      "1031166498     0.0     0.0     0.0    0.0    0.0  \n",
      "1031166502     0.0     0.0     0.0    0.0    0.0  \n",
      "1031166506     0.0     0.0     0.0    0.0    0.0  \n",
      "1031166510     0.0     1.0     0.0    0.0    0.0  \n",
      "1031166526     0.0     0.0     0.0    0.0    0.0  \n",
      "1031166534     0.0     0.0     0.0    0.0    0.0  \n",
      "1031166538     0.0     0.0     0.0    0.0    0.0  \n",
      "1031166542     0.0     0.0     0.0    0.0    0.0  \n",
      "1031166550     0.0     0.0     0.0    0.0    0.0  \n",
      "1031166562     0.0     0.0     0.0    0.0    0.0  \n",
      "1031166570     0.0     0.0     0.0    0.0    0.0  \n",
      "1031166574     0.0     1.0     0.0    0.0    0.0  \n",
      "1031166578     0.0     1.0     0.0    0.0    0.0  \n",
      "1031166582     0.0     0.0     0.0    0.0    0.0  \n",
      "1031166586     0.0     0.0     0.0    0.0    0.0  \n",
      "1031166594     0.0     0.0     0.0    0.0    0.0  \n",
      "1031166606     0.0     0.0     0.0    0.0    0.0  \n",
      "1031166614     0.0     0.0     0.0    0.0    0.0  \n",
      "1031166622     0.0     0.0     0.0    0.0    0.0  \n",
      "1031166630     0.0     0.0     0.0    0.0    0.0  \n",
      "1031166634     0.0     0.0     0.0    0.0    0.0  \n",
      "1031166638     0.0     1.0     0.0    0.0    0.0  \n",
      "1031166642     0.0     0.0     0.0    0.0    0.0  \n",
      "1031166646     0.0     0.0     0.0    0.0    0.0  \n",
      "1031166658     0.0     0.0     0.0    0.0    0.0  \n",
      "1031166662     0.0     0.0     0.0    0.0    0.0  \n",
      "\n",
      "[84045 rows x 29 columns]\n",
      "<class 'pandas.core.frame.DataFrame'>\n"
     ]
    }
   ],
   "source": [
    "#creating onehot encoding matrix\n",
    "onehot = pd.get_dummies(OrderItem['Article ID'])\n",
    "df = pd.DataFrame({'Order ID' : OrderItem['Order ID']})\n",
    "df = df.join(onehot)\n",
    "#sum all the instances based on each Order ID\n",
    "df = df.groupby('Order ID').sum()\n",
    "df.drop([col for col, val in df.sum().iteritems() if val < 5000], axis=1, inplace=True)\n",
    "print(df)\n",
    "print(type(df))"
   ]
  },
  {
   "cell_type": "code",
   "execution_count": 17,
   "metadata": {
    "collapsed": false
   },
   "outputs": [
    {
     "data": {
      "text/plain": [
       "29"
      ]
     },
     "execution_count": 17,
     "metadata": {},
     "output_type": "execute_result"
    }
   ],
   "source": [
    "len(df.columns)"
   ]
  },
  {
   "cell_type": "code",
   "execution_count": null,
   "metadata": {
    "collapsed": false
   },
   "outputs": [],
   "source": [
    "# calculate occurrence(support) for every product in all transactions\n",
    "product_support_dict = {}\n",
    "for column in df.columns:\n",
    "    product_support_dict[column] = sum(df[column]>0)\n",
    " \n",
    "# visualise support\n",
    "pd.Series(product_support_dict).plot(kind=\"bar\")"
   ]
  },
  {
   "cell_type": "code",
   "execution_count": 21,
   "metadata": {
    "collapsed": false
   },
   "outputs": [
    {
     "data": {
      "image/png": "[encoded data removed]",
      "text/plain": [
       "<matplotlib.figure.Figure at 0x1c2859b7ac8>"
      ]
     },
     "metadata": {},
     "output_type": "display_data"
    }
   ],
   "source": [
    "# take data matrix from dataframe\n",
    "transaction_matrix = df.as_matrix()\n",
    "# get number of rows and columns\n",
    "rows, columns = transaction_matrix.shape\n",
    "# init new matrix\n",
    "frequent_items_matrix = np.zeros((len(df.columns),len(df.columns)))\n",
    "# compare every product with every other\n",
    "for this_column in range(0, columns-1):\n",
    "    for next_column in range(this_column + 1, columns):\n",
    "        # multiply product pair vectors\n",
    "        product_vector = transaction_matrix[:,this_column] * transaction_matrix[:,next_column]\n",
    "        # check the number of pair occurrences in baskets\n",
    "        count_matches = sum((product_vector)>0)\n",
    "        # save values to new matrix\n",
    "        frequent_items_matrix[this_column,next_column] = count_matches\n",
    "\n",
    "def plot_matrix(matrix):\n",
    "    fig = plt.figure()\n",
    "    ax = fig.add_subplot(111)\n",
    "    cax = ax.matshow(matrix, interpolation='nearest')\n",
    "    fig.colorbar(cax)        \n",
    "        \n",
    "#print frequent_items_matrix\n",
    "plot_matrix(frequent_items_matrix)"
   ]
  },
  {
   "cell_type": "code",
   "execution_count": 11,
   "metadata": {
    "collapsed": true
   },
   "outputs": [],
   "source": [
    "import matplotlib.pyplot as plt\n",
    "import matplotlib as mpl\n",
    "import seaborn as sns\n",
    "from collections import OrderedDict\n",
    "from fractions import Fraction\n",
    "%matplotlib inline"
   ]
  },
  {
   "cell_type": "code",
   "execution_count": 14,
   "metadata": {
    "collapsed": true
   },
   "outputs": [],
   "source": [
    "from collections import OrderedDict\n",
    "from fractions import Fraction"
   ]
  },
  {
   "cell_type": "code",
   "execution_count": 13,
   "metadata": {
    "collapsed": false
   },
   "outputs": [
    {
     "data": {
      "text/plain": [
       "<matplotlib.axes._subplots.AxesSubplot at 0x1c284eea518>"
      ]
     },
     "execution_count": 13,
     "metadata": {},
     "output_type": "execute_result"
    }
   ],
   "source": [
    "# and finally combine product names with data\n",
    "frequent_items_df = pd.DataFrame(frequent_items_matrix, columns = df.columns.values, index = df.columns.values)\n",
    " \n",
    "import seaborn as sns\n",
    "sns.heatmap(frequent_items_df)"
   ]
  },
  {
   "cell_type": "code",
   "execution_count": 22,
   "metadata": {
    "collapsed": false
   },
   "outputs": [
    {
     "data": {
      "image/png": "[encoded data removed]",
      "text/plain": [
       "<matplotlib.figure.Figure at 0x1c2859b7470>"
      ]
     },
     "metadata": {},
     "output_type": "display_data"
    }
   ],
   "source": [
    "product_names = df.columns.values\n",
    "# extract product pairs with minimum frequency(treshold) basket occurrences\n",
    "def extract_pairs(treshold):\n",
    "    output = {}\n",
    "    # select indexes with larger or equal n\n",
    "    matrix_coord_list = np.where(frequent_items_matrix >= treshold)\n",
    "    # take values\n",
    "    row_coords = matrix_coord_list[0]\n",
    "    column_coords = matrix_coord_list[1]\n",
    "    # generate pairs\n",
    "    for index, value in enumerate(row_coords):\n",
    "        #print index\n",
    "        row = row_coords[index]\n",
    "        column = column_coords[index]\n",
    "        # get product names\n",
    "        first_product = product_names[row]\n",
    "        second_product = product_names[column]\n",
    "        # number of basket matches\n",
    "        matches = frequent_items_matrix[row,column]\n",
    "        # put key values into dict\n",
    "        output[first_product+\"-\"+second_product] = matches\n",
    " \n",
    "    # return sorted dict\n",
    "    sorted_output = OrderedDict(sorted(output.items(), key=lambda x: x[1]))\n",
    "    return sorted_output\n",
    " \n",
    "# plot pairs with minimum frequency of 1 basket matches\n",
    "min_frequency = 1000\n",
    "ax = pd.Series(extract_pairs(min_frequency)).plot(kind=\"barh\", title=\"Frequent Pairs with Frequency >= \" + str(min_frequency))"
   ]
  }
 ],
 "metadata": {
  "anaconda-cloud": {},
  "kernelspec": {
   "display_name": "Python [conda root]",
   "language": "python",
   "name": "conda-root-py"
  },
  "language_info": {
   "codemirror_mode": {
    "name": "ipython",
    "version": 3
   },
   "file_extension": ".py",
   "mimetype": "text/x-python",
   "name": "python",
   "nbconvert_exporter": "python",
   "pygments_lexer": "ipython3",
   "version": "3.5.2"
  }
 },
 "nbformat": 4,
 "nbformat_minor": 1
}
